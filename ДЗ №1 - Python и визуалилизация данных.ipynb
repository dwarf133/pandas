{
 "cells": [
  {
   "cell_type": "markdown",
   "metadata": {},
   "source": [
    "##### Заполните код в клетках (где написано \"Ваш код здесь\")"
   ]
  },
  {
   "cell_type": "code",
   "execution_count": 1,
   "metadata": {},
   "outputs": [],
   "source": [
    "import numpy as np\n",
    "import pandas as pd"
   ]
  },
  {
   "cell_type": "markdown",
   "metadata": {},
   "source": [
    "Считаем данные из файла в память в виде объекта Pandas.DataFrame"
   ]
  },
  {
   "cell_type": "code",
   "execution_count": 2,
   "metadata": {},
   "outputs": [],
   "source": [
    "# put your here\n",
    "df = pd.read_csv('titanic_train.csv')"
   ]
  },
  {
   "cell_type": "markdown",
   "metadata": {},
   "source": [
    "##### 1. Сколько мужчин / женщин находилось на борту? \n",
    "\n",
    "Напишите код и правильный вариант ответа"
   ]
  },
  {
   "cell_type": "markdown",
   "metadata": {},
   "source": [
    "1) 412 мужчин и 479 женщин\n",
    "\n",
    "2) 314 мужчин и 577 женщин\n",
    "\n",
    "3) 479 мужчин и 412 женщин\n",
    "\n",
    "4) 577 мужчин и 314 женщин - правильный"
   ]
  },
  {
   "cell_type": "code",
   "execution_count": null,
   "metadata": {},
   "outputs": [],
   "source": [
    "#ваш код здесь\n",
    "df['Sex'].value_counts()"
   ]
  },
  {
   "cell_type": "markdown",
   "metadata": {},
   "source": [
    "#####  2. Выведите распределение переменной Pclass (социально-экономический статус) и это же распределение, только для мужчин / женщин по отдельности. Сколько было мужчин 2-го класса?\n",
    "\n",
    "Напишите код и правильный вариант ответа"
   ]
  },
  {
   "cell_type": "markdown",
   "metadata": {},
   "source": [
    "1) 104\n",
    "\n",
    "2) 108 - true\n",
    "\n",
    "3) 112\n",
    "\n",
    "4) 125"
   ]
  },
  {
   "cell_type": "code",
   "execution_count": null,
   "metadata": {},
   "outputs": [],
   "source": [
    "#ваш код здесь\n",
    "df[df['Sex'] == 'male']['Pclass'].value_counts()"
   ]
  },
  {
   "cell_type": "markdown",
   "metadata": {},
   "source": [
    "ЭТО ТЕКСТ"
   ]
  },
  {
   "cell_type": "markdown",
   "metadata": {},
   "source": [
    "#####  3. Каковы медиана и стандартное отклонение платежей (Fare)? \n",
    "\n",
    "Напишите код и правильный вариант ответа"
   ]
  },
  {
   "cell_type": "markdown",
   "metadata": {},
   "source": [
    "1) Медиана – 14.45, стандартное отклонение – 49.69 - true\n",
    "\n",
    "2) Медиана – 15.1, стандартное отклонение – 12.15\n",
    "\n",
    "3) Медиана – 13.15, стандартное отклонение – 35.3\n",
    "\n",
    "4) Медиана – 17.43, стандартное отклонение – 39.1"
   ]
  },
  {
   "cell_type": "code",
   "execution_count": null,
   "metadata": {},
   "outputs": [],
   "source": [
    "#ваш код здесь\n",
    "df.describe()"
   ]
  },
  {
   "cell_type": "markdown",
   "metadata": {},
   "source": [
    "\n",
    "##### 4. Правда ли, что люди моложе 30 лет выживали чаще, чем люди старше 60 лет? Каковы доли выживших в обеих группах?\n",
    "\n",
    "Напишите код и правильный вариант ответа\n",
    "\n",
    "1) 22.7% среди молодых и 40.6% среди старых\n",
    "\n",
    "2) 40.6% среди молодых и 22.7% среди старых - true\n",
    "\n",
    "3) 35.3% среди молодых и 27.4% среди старых\n",
    "\n",
    "4) 27.4% среди молодых и 35.3% среди старых"
   ]
  },
  {
   "cell_type": "code",
   "execution_count": null,
   "metadata": {},
   "outputs": [],
   "source": [
    "#df['Age'].value_counts()\n",
    "print(df[df['Age'] < 30]['Survived'].value_counts(normalize = True))\n",
    "print(df[df['Age'] > 60]['Survived'].value_counts(normalize = True))\n"
   ]
  },
  {
   "cell_type": "markdown",
   "metadata": {},
   "source": [
    "##### 5. Правда ли, что женщины выживали чаще мужчин? Каковы доли выживших в обеих группах?\n",
    "\n",
    "Напишите код и правильный вариант ответа\n",
    "\n",
    "1) 30.2% среди мужчин и 46.2% среди женщин\n",
    "\n",
    "2) 35.7% среди мужчин и 74.2% среди женщин\n",
    "\n",
    "3) 21.1% среди мужчин и 46.2% среди женщин\n",
    "\n",
    "4) 18.9% среди мужчин и 74.2% среди женщин - true\n"
   ]
  },
  {
   "cell_type": "code",
   "execution_count": null,
   "metadata": {},
   "outputs": [],
   "source": [
    "#ваш код здесь\n",
    "print(df[df['Sex'] == 'male']['Survived'].value_counts(normalize=True))\n",
    "print(df[df['Sex'] == 'female']['Survived'].value_counts(normalize=True))"
   ]
  },
  {
   "cell_type": "markdown",
   "metadata": {},
   "source": [
    "##### 6. Сравните графически распределение стоимости билетов и возраста у спасенных и у погибших. Средний возраст погибших выше, верно?\n",
    "\n",
    "Напишите код и правильный вариант ответа\n",
    "\n",
    "1) Да - true\n",
    "\n",
    "2) Нет\n"
   ]
  },
  {
   "cell_type": "code",
   "execution_count": null,
   "metadata": {},
   "outputs": [],
   "source": [
    "#ваш код здесь\n",
    "import matplotlib.pyplot as plt\n",
    "plt.close('all')\n",
    "data = df.loc[:, ['Survived', 'Age', 'Fare']].groupby('Survived').mean()\n",
    "print(data)\n",
    "data.plot(kind = 'bar')"
   ]
  },
  {
   "cell_type": "markdown",
   "metadata": {},
   "source": [
    "\n",
    "##### 7. Как отличается средний возраст мужчин / женщин в зависимости от класса обслуживания? Выберите верные утверждения:\n",
    "\n",
    "Напишите код и правильный вариант ответа\n",
    "\n",
    "1) В среднем мужчины 1-го класса старше 40 лет\n",
    "\n",
    "2) В среднем женщины 1-го класса старше 40 лет\n",
    "\n",
    "3) Мужчины всех классов в среднем старше женщин того же класса\n",
    "\n",
    "4) В среднем люди в 1 классе старше, чем во 2-ом, а те старше представителей 3-го класса\n",
    "\n",
    "1, 3, 4"
   ]
  },
  {
   "cell_type": "code",
   "execution_count": 15,
   "metadata": {},
   "outputs": [
    {
     "data": {
      "text/html": [
       "<div>\n",
       "<style scoped>\n",
       "    .dataframe tbody tr th:only-of-type {\n",
       "        vertical-align: middle;\n",
       "    }\n",
       "\n",
       "    .dataframe tbody tr th {\n",
       "        vertical-align: top;\n",
       "    }\n",
       "\n",
       "    .dataframe thead th {\n",
       "        text-align: right;\n",
       "    }\n",
       "</style>\n",
       "<table border=\"1\" class=\"dataframe\">\n",
       "  <thead>\n",
       "    <tr style=\"text-align: right;\">\n",
       "      <th></th>\n",
       "      <th></th>\n",
       "      <th>Age</th>\n",
       "    </tr>\n",
       "    <tr>\n",
       "      <th>Sex</th>\n",
       "      <th>Pclass</th>\n",
       "      <th></th>\n",
       "    </tr>\n",
       "  </thead>\n",
       "  <tbody>\n",
       "    <tr>\n",
       "      <th rowspan=\"3\" valign=\"top\">female</th>\n",
       "      <th>1</th>\n",
       "      <td>34.611765</td>\n",
       "    </tr>\n",
       "    <tr>\n",
       "      <th>2</th>\n",
       "      <td>28.722973</td>\n",
       "    </tr>\n",
       "    <tr>\n",
       "      <th>3</th>\n",
       "      <td>21.750000</td>\n",
       "    </tr>\n",
       "    <tr>\n",
       "      <th rowspan=\"3\" valign=\"top\">male</th>\n",
       "      <th>1</th>\n",
       "      <td>41.281386</td>\n",
       "    </tr>\n",
       "    <tr>\n",
       "      <th>2</th>\n",
       "      <td>30.740707</td>\n",
       "    </tr>\n",
       "    <tr>\n",
       "      <th>3</th>\n",
       "      <td>26.507589</td>\n",
       "    </tr>\n",
       "  </tbody>\n",
       "</table>\n",
       "</div>"
      ],
      "text/plain": [
       "                     Age\n",
       "Sex    Pclass           \n",
       "female 1       34.611765\n",
       "       2       28.722973\n",
       "       3       21.750000\n",
       "male   1       41.281386\n",
       "       2       30.740707\n",
       "       3       26.507589"
      ]
     },
     "execution_count": 15,
     "metadata": {},
     "output_type": "execute_result"
    }
   ],
   "source": [
    "#ваш код здесь\n",
    "df.loc[:, ['Pclass', 'Sex', 'Age']].groupby(['Sex', 'Pclass']).mean()"
   ]
  },
  {
   "cell_type": "markdown",
   "metadata": {},
   "source": [
    "##### 8. Постройте попарные зависимости признаков Age, Fare, Pclass, Sex, SibSp, Parch, Embarked и Survived. (метод scatter_matrix Pandas или pairplot Seaborn).\n",
    "\n",
    "Напишите код и визуализируйте"
   ]
  },
  {
   "cell_type": "code",
   "execution_count": 16,
   "metadata": {},
   "outputs": [
    {
     "data": {
      "text/plain": [
       "array([[<AxesSubplot:xlabel='Age', ylabel='Age'>,\n",
       "        <AxesSubplot:xlabel='Fare', ylabel='Age'>,\n",
       "        <AxesSubplot:xlabel='Pclass', ylabel='Age'>,\n",
       "        <AxesSubplot:xlabel='SibSp', ylabel='Age'>,\n",
       "        <AxesSubplot:xlabel='Parch', ylabel='Age'>,\n",
       "        <AxesSubplot:xlabel='Survived', ylabel='Age'>],\n",
       "       [<AxesSubplot:xlabel='Age', ylabel='Fare'>,\n",
       "        <AxesSubplot:xlabel='Fare', ylabel='Fare'>,\n",
       "        <AxesSubplot:xlabel='Pclass', ylabel='Fare'>,\n",
       "        <AxesSubplot:xlabel='SibSp', ylabel='Fare'>,\n",
       "        <AxesSubplot:xlabel='Parch', ylabel='Fare'>,\n",
       "        <AxesSubplot:xlabel='Survived', ylabel='Fare'>],\n",
       "       [<AxesSubplot:xlabel='Age', ylabel='Pclass'>,\n",
       "        <AxesSubplot:xlabel='Fare', ylabel='Pclass'>,\n",
       "        <AxesSubplot:xlabel='Pclass', ylabel='Pclass'>,\n",
       "        <AxesSubplot:xlabel='SibSp', ylabel='Pclass'>,\n",
       "        <AxesSubplot:xlabel='Parch', ylabel='Pclass'>,\n",
       "        <AxesSubplot:xlabel='Survived', ylabel='Pclass'>],\n",
       "       [<AxesSubplot:xlabel='Age', ylabel='SibSp'>,\n",
       "        <AxesSubplot:xlabel='Fare', ylabel='SibSp'>,\n",
       "        <AxesSubplot:xlabel='Pclass', ylabel='SibSp'>,\n",
       "        <AxesSubplot:xlabel='SibSp', ylabel='SibSp'>,\n",
       "        <AxesSubplot:xlabel='Parch', ylabel='SibSp'>,\n",
       "        <AxesSubplot:xlabel='Survived', ylabel='SibSp'>],\n",
       "       [<AxesSubplot:xlabel='Age', ylabel='Parch'>,\n",
       "        <AxesSubplot:xlabel='Fare', ylabel='Parch'>,\n",
       "        <AxesSubplot:xlabel='Pclass', ylabel='Parch'>,\n",
       "        <AxesSubplot:xlabel='SibSp', ylabel='Parch'>,\n",
       "        <AxesSubplot:xlabel='Parch', ylabel='Parch'>,\n",
       "        <AxesSubplot:xlabel='Survived', ylabel='Parch'>],\n",
       "       [<AxesSubplot:xlabel='Age', ylabel='Survived'>,\n",
       "        <AxesSubplot:xlabel='Fare', ylabel='Survived'>,\n",
       "        <AxesSubplot:xlabel='Pclass', ylabel='Survived'>,\n",
       "        <AxesSubplot:xlabel='SibSp', ylabel='Survived'>,\n",
       "        <AxesSubplot:xlabel='Parch', ylabel='Survived'>,\n",
       "        <AxesSubplot:xlabel='Survived', ylabel='Survived'>]], dtype=object)"
      ]
     },
     "execution_count": 16,
     "metadata": {},
     "output_type": "execute_result"
    },
    {
     "data": {
      "image/png": "[encoded data removed]",
      "text/plain": [
       "<Figure size 432x288 with 36 Axes>"
      ]
     },
     "metadata": {
      "needs_background": "light"
     },
     "output_type": "display_data"
    }
   ],
   "source": [
    "#ваш код здес\n",
    "data = df.loc[:, ['Age', 'Fare', 'Pclass', 'Sex', 'SibSp', 'Parch', 'Embarked', 'Survived']]\n",
    "pd.plotting.scatter_matrix(data)"
   ]
  },
  {
   "cell_type": "markdown",
   "metadata": {},
   "source": [
    "##### 9. Как плата за билет (Fare) зависит от класса каюты (Pclass)? Постройте boxplot.\n",
    "\n",
    "Напишите код и визуализируйте"
   ]
  },
  {
   "cell_type": "code",
   "execution_count": 17,
   "metadata": {},
   "outputs": [
    {
     "name": "stdout",
     "output_type": "stream",
     "text": [
      "84.1546875\n",
      "20.662183152173913\n",
      "13.675550101832993\n"
     ]
    },
    {
     "data": {
      "text/plain": [
       "<AxesSubplot:title={'center':'Fare'}, xlabel='[Pclass]'>"
      ]
     },
     "execution_count": 17,
     "metadata": {},
     "output_type": "execute_result"
    },
    {
     "data": {
      "image/png": "[encoded data removed]",
      "text/plain": [
       "<Figure size 432x288 with 1 Axes>"
      ]
     },
     "metadata": {
      "needs_background": "light"
     },
     "output_type": "display_data"
    }
   ],
   "source": [
    "#ваш код здесь\n",
    "print(df[df['Pclass'] == 1]['Fare'].mean())\n",
    "print(df[df['Pclass'] == 2]['Fare'].mean())\n",
    "print(df[df['Pclass'] == 3]['Fare'].mean())\n",
    "df.boxplot(column= ['Fare'], by = ['Pclass'])"
   ]
  },
  {
   "cell_type": "markdown",
   "metadata": {},
   "source": [
    "##### 10. Каково соотношение погибших и выживших в зависимости от пола? Отобразите c помощью Seaborn.countplot c аргументом hue.\n",
    "\n",
    "Напишите код и визуализируйте"
   ]
  },
  {
   "cell_type": "code",
   "execution_count": 7,
   "metadata": {},
   "outputs": [
    {
     "data": {
      "text/plain": [
       "<AxesSubplot:xlabel='Sex', ylabel='count'>"
      ]
     },
     "execution_count": 7,
     "metadata": {},
     "output_type": "execute_result"
    },
    {
     "data": {
      "image/png": "[encoded data removed]",
      "text/plain": [
       "<Figure size 432x288 with 1 Axes>"
      ]
     },
     "metadata": {
      "needs_background": "light"
     },
     "output_type": "display_data"
    }
   ],
   "source": [
    "import seaborn as sb\n",
    "sb.countplot(hue = 'Survived', x = 'Sex', data = df)"
   ]
  },
  {
   "cell_type": "markdown",
   "metadata": {},
   "source": [
    "##### 11. Каково соотношение погибших и выживших в зависимости от класса каюты? Отобразите c помощью Seaborn.countplot c аргументом hue.\n",
    "\n",
    "Напишите код и визуализируйте"
   ]
  },
  {
   "cell_type": "code",
   "execution_count": 8,
   "metadata": {},
   "outputs": [
    {
     "data": {
      "text/plain": [
       "<AxesSubplot:xlabel='Pclass', ylabel='count'>"
      ]
     },
     "execution_count": 8,
     "metadata": {},
     "output_type": "execute_result"
    },
    {
     "data": {
      "image/png": "[encoded data removed]",
      "text/plain": [
       "<Figure size 432x288 with 1 Axes>"
      ]
     },
     "metadata": {
      "needs_background": "light"
     },
     "output_type": "display_data"
    }
   ],
   "source": [
    "sb.countplot(x = 'Pclass', hue = 'Survived', data = df)"
   ]
  },
  {
   "cell_type": "markdown",
   "metadata": {},
   "source": [
    "##### 12. Как факт выживания зависит от возраста пассажира? Проверьте (графически) предположение, что молодые чаще выживали. Пусть, условно, молодые - младше 30 лет, пожилые – старше 60 лет.\n",
    "\n",
    "Напишите код и визуализируйте"
   ]
  },
  {
   "cell_type": "code",
   "execution_count": 14,
   "metadata": {},
   "outputs": [
    {
     "data": {
      "text/plain": [
       "<AxesSubplot:xlabel='AgeType', ylabel='count'>"
      ]
     },
     "execution_count": 14,
     "metadata": {},
     "output_type": "execute_result"
    },
    {
     "data": {
      "image/png": "[encoded data removed]",
      "text/plain": [
       "<Figure size 432x288 with 1 Axes>"
      ]
     },
     "metadata": {
      "needs_background": "light"
     },
     "output_type": "display_data"
    }
   ],
   "source": [
    "def get_age_type(age ):\n",
    "    if age < 30:\n",
    "        return 'young'\n",
    "    elif age > 60: \n",
    "        return 'old'\n",
    "    else:\n",
    "        return 'adult'\n",
    "\n",
    "\n",
    "df['AgeType'] = df['Age'].apply(get_age_type)\n",
    "sb.countplot(x = 'AgeType', hue = 'Survived', data = df)"
   ]
  }
 ],
 "metadata": {
  "kernelspec": {
   "display_name": "Python 3",
   "language": "python",
   "name": "python3"
  },
  "language_info": {
   "codemirror_mode": {
    "name": "ipython",
    "version": 3
   },
   "file_extension": ".py",
   "mimetype": "text/x-python",
   "name": "python",
   "nbconvert_exporter": "python",
   "pygments_lexer": "ipython3",
   "version": "3.9.10"
  }
 },
 "nbformat": 4,
 "nbformat_minor": 2
}
