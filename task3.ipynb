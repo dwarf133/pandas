{
 "cells": [
  {
   "cell_type": "markdown",
   "metadata": {},
   "source": [
    "### Задание 3\n",
    "Реализовать функцию которая получает на вход число, затем, добавляет к нему правильную форму слова рубль\n",
    "(используя условные операторы IF и правила русского языка)\n",
    "\n",
    "Пример: 123 - 123 рубля; 5 - 5 рублей; 1 - 1 рубль"
   ]
  },
  {
   "cell_type": "code",
   "execution_count": 35,
   "metadata": {},
   "outputs": [
    {
     "name": "stdout",
     "output_type": "stream",
     "text": [
      "1\n",
      "1121 рубль\n"
     ]
    }
   ],
   "source": [
    "def some_func(value): \n",
    "    inpStr = str(value)\n",
    "    onlyMeaningPart = int(inpStr[-2] + inpStr[-1])\n",
    "    if onlyMeaningPart > 20: onlyMeaningPart %= 10\n",
    "    print(onlyMeaningPart)\n",
    "    if onlyMeaningPart == 0: return 'рублей'\n",
    "    elif onlyMeaningPart == 1: return 'рубль'\n",
    "    elif onlyMeaningPart < 5: return 'рубля'\n",
    "    else: return 'рублей' \n",
    "\n",
    "def print_value(value=0):\n",
    "    print(f\"{value} {some_func(value)}\")\n",
    "\n",
    "print_value(11)\n",
    "\n"
   ]
  }
 ],
 "metadata": {
  "interpreter": {
   "hash": "aee8b7b246df8f9039afb4144a1f6fd8d2ca17a180786b69acc140d282b71a49"
  },
  "kernelspec": {
   "display_name": "Python 3.9.10 64-bit",
   "language": "python",
   "name": "python3"
  },
  "language_info": {
   "codemirror_mode": {
    "name": "ipython",
    "version": 3
   },
   "file_extension": ".py",
   "mimetype": "text/x-python",
   "name": "python",
   "nbconvert_exporter": "python",
   "pygments_lexer": "ipython3",
   "version": "3.9.10"
  },
  "orig_nbformat": 4
 },
 "nbformat": 4,
 "nbformat_minor": 2
}
