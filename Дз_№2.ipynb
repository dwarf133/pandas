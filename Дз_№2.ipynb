{
 "cells": [
  {
   "cell_type": "markdown",
   "metadata": {},
   "source": [
    "Cоздать новую колонку \"Sex\" и заполнить ее значениями по умолчанию для каждого набора данных (moscow_female.csv и moscow_male.csv)"
   ]
  },
  {
   "cell_type": "code",
   "execution_count": 1,
   "metadata": {},
   "outputs": [
    {
     "name": "stdout",
     "output_type": "stream",
     "text": [
      "        ID       Name NumberOfPersons  global_id  Year     Month   Sex\n",
      "0        1  Александр             253   37750243  2015    январь  Male\n",
      "1        2     Михаил             247   37750244  2015    январь  Male\n",
      "2        3       Иван             226   37750245  2015    январь  Male\n",
      "3        4     Максим             208   37750246  2015    январь  Male\n",
      "4        5      Артём             190   37750247  2015    январь  Male\n",
      "...    ...        ...             ...        ...   ...       ...   ...\n",
      "4499  5396  Святослав               7  894568752  2018  сентябрь  Male\n",
      "4500  5397     Даниль               7  894568785  2018  сентябрь  Male\n",
      "4501  5398      Тихон               7  894568808  2018  сентябрь  Male\n",
      "4502  5399      Имран               7  894568838  2018  сентябрь  Male\n",
      "4503  5400      Назар               7  894568866  2018  сентябрь  Male\n",
      "\n",
      "[4500 rows x 7 columns]\n"
     ]
    }
   ],
   "source": [
    "import numpy as np\n",
    "import pandas as pd\n",
    "dfm = pd.read_csv('moscow_male.csv', encoding='windows-1251', sep=';')\n",
    "dff = pd.read_csv('moscow_female.csv', encoding='windows-1251', sep=';')\n",
    "dfm = dfm.drop('Unnamed: 6', axis=1)\n",
    "dff = dff.drop('Unnamed: 6', axis=1)\n",
    "dfm = dfm[dfm['ID'] != 'ID']\n",
    "dff = dff[dff['ID'] != 'ID']\n",
    "dfm['Sex'] = 'Male'\n",
    "dff['Sex'] = 'Female'\n",
    "\n",
    "print(dfm)\n"
   ]
  },
  {
   "cell_type": "markdown",
   "metadata": {},
   "source": [
    "Объединить оба набора данных в один датафрейм (например , merge по полю \"Year\")"
   ]
  },
  {
   "cell_type": "code",
   "execution_count": 2,
   "metadata": {},
   "outputs": [
    {
     "data": {
      "text/html": [
       "<div>\n",
       "<style scoped>\n",
       "    .dataframe tbody tr th:only-of-type {\n",
       "        vertical-align: middle;\n",
       "    }\n",
       "\n",
       "    .dataframe tbody tr th {\n",
       "        vertical-align: top;\n",
       "    }\n",
       "\n",
       "    .dataframe thead th {\n",
       "        text-align: right;\n",
       "    }\n",
       "</style>\n",
       "<table border=\"1\" class=\"dataframe\">\n",
       "  <thead>\n",
       "    <tr style=\"text-align: right;\">\n",
       "      <th></th>\n",
       "      <th>ID</th>\n",
       "      <th>Name</th>\n",
       "      <th>NumberOfPersons</th>\n",
       "      <th>global_id</th>\n",
       "      <th>Year</th>\n",
       "      <th>Month</th>\n",
       "      <th>Sex</th>\n",
       "    </tr>\n",
       "  </thead>\n",
       "  <tbody>\n",
       "    <tr>\n",
       "      <th>count</th>\n",
       "      <td>9000</td>\n",
       "      <td>9000</td>\n",
       "      <td>9000</td>\n",
       "      <td>9000</td>\n",
       "      <td>9000</td>\n",
       "      <td>9000</td>\n",
       "      <td>9000</td>\n",
       "    </tr>\n",
       "    <tr>\n",
       "      <th>unique</th>\n",
       "      <td>4500</td>\n",
       "      <td>374</td>\n",
       "      <td>312</td>\n",
       "      <td>9000</td>\n",
       "      <td>4</td>\n",
       "      <td>12</td>\n",
       "      <td>2</td>\n",
       "    </tr>\n",
       "    <tr>\n",
       "      <th>top</th>\n",
       "      <td>1</td>\n",
       "      <td>Александр</td>\n",
       "      <td>8</td>\n",
       "      <td>37750243</td>\n",
       "      <td>2015</td>\n",
       "      <td>январь</td>\n",
       "      <td>Male</td>\n",
       "    </tr>\n",
       "    <tr>\n",
       "      <th>freq</th>\n",
       "      <td>2</td>\n",
       "      <td>45</td>\n",
       "      <td>515</td>\n",
       "      <td>1</td>\n",
       "      <td>2400</td>\n",
       "      <td>800</td>\n",
       "      <td>4500</td>\n",
       "    </tr>\n",
       "  </tbody>\n",
       "</table>\n",
       "</div>"
      ],
      "text/plain": [
       "          ID       Name NumberOfPersons global_id  Year   Month   Sex\n",
       "count   9000       9000            9000      9000  9000    9000  9000\n",
       "unique  4500        374             312      9000     4      12     2\n",
       "top        1  Александр               8  37750243  2015  январь  Male\n",
       "freq       2         45             515         1  2400     800  4500"
      ]
     },
     "execution_count": 2,
     "metadata": {},
     "output_type": "execute_result"
    }
   ],
   "source": [
    "df = pd.concat([dfm, dff], ignore_index=True)\n",
    "df.describe()\n"
   ]
  },
  {
   "cell_type": "markdown",
   "metadata": {},
   "source": [
    "Выделить последнюю букву имени в именах мальчика или девочки"
   ]
  },
  {
   "cell_type": "code",
   "execution_count": 3,
   "metadata": {},
   "outputs": [
    {
     "name": "stdout",
     "output_type": "stream",
     "text": [
      "        ID       Name NumberOfPersons  global_id  Year     Month     Sex  \\\n",
      "0        1  Александр             253   37750243  2015    январь    Male   \n",
      "1        2     Михаил             247   37750244  2015    январь    Male   \n",
      "2        3       Иван             226   37750245  2015    январь    Male   \n",
      "3        4     Максим             208   37750246  2015    январь    Male   \n",
      "4        5      Артём             190   37750247  2015    январь    Male   \n",
      "...    ...        ...             ...        ...   ...       ...     ...   \n",
      "8995  5396     Мариам               8  894619931  2018  сентябрь  Female   \n",
      "8996  5397      Аниса               8  894619962  2018  сентябрь  Female   \n",
      "8997  5398    Мелания               7  894619999  2018  сентябрь  Female   \n",
      "8998  5399      Аделя               7  894620024  2018  сентябрь  Female   \n",
      "8999  5400       Лада               7  894620055  2018  сентябрь  Female   \n",
      "\n",
      "     LastVerb  \n",
      "0           р  \n",
      "1           л  \n",
      "2           н  \n",
      "3           м  \n",
      "4           м  \n",
      "...       ...  \n",
      "8995        м  \n",
      "8996        а  \n",
      "8997        я  \n",
      "8998        я  \n",
      "8999        а  \n",
      "\n",
      "[9000 rows x 8 columns]\n"
     ]
    }
   ],
   "source": [
    "df['LastVerb'] = df['Name'].apply(lambda x: x[-1])\n",
    "print(df)"
   ]
  },
  {
   "cell_type": "markdown",
   "metadata": {},
   "source": [
    "Визуализировать зависимость последней буквы в имени от пола"
   ]
  },
  {
   "cell_type": "code",
   "execution_count": 4,
   "metadata": {},
   "outputs": [
    {
     "data": {
      "text/plain": [
       "<AxesSubplot:xlabel='LastVerb', ylabel='count'>"
      ]
     },
     "execution_count": 4,
     "metadata": {},
     "output_type": "execute_result"
    },
    {
     "data": {
      "image/png": "[encoded data removed]",
      "text/plain": [
       "<Figure size 1152x864 with 1 Axes>"
      ]
     },
     "metadata": {},
     "output_type": "display_data"
    }
   ],
   "source": [
    "import seaborn as sb\n",
    "sb.set(rc={\"figure.figsize\":(16,12)})\n",
    "sb.countplot(x='LastVerb', hue='Sex', data=df)"
   ]
  },
  {
   "cell_type": "markdown",
   "metadata": {},
   "source": [
    "Написать функцию, которая на основе любого введеного имени, подбирает к нему обращение (\"Г-жа\" и \"Г-дин\")"
   ]
  },
  {
   "cell_type": "code",
   "execution_count": 21,
   "metadata": {},
   "outputs": [
    {
     "name": "stdout",
     "output_type": "stream",
     "text": [
      "Добрый день, Госпожа Екатерина\n"
     ]
    }
   ],
   "source": [
    "from random import randint\n",
    "\n",
    "grouped = df.groupby([\"LastVerb\", \"Sex\"])[\"ID\"].count()\n",
    "#print(grouped)\n",
    "\n",
    "def get_article_by_name(name):\n",
    "    sexByNameInDf = df[df['Name'] == name]['Sex'].unique()\n",
    "    if sexByNameInDf.size != 0:\n",
    "        return sexByNameInDf[0]\n",
    "    \n",
    "    lc = name[-1]\n",
    "    maleWithLc = grouped.get((lc, \"Male\"), default=0)\n",
    "    femaleWithLc = grouped.get((lc, \"Female\"), default=0)\n",
    "\n",
    "    if maleWithLc > femaleWithLc:\n",
    "        return \"Male\"\n",
    "    elif femaleWithLc > maleWithLc:\n",
    "        return \"Female\"\n",
    "    else: return \"Male\" if randint(0, 1) == 0 else \"Female\"\n",
    "\n",
    "def hello_with_article(name):\n",
    "    article = 'Господин' if get_article_by_name(name) == 'Male' else 'Госпожа'\n",
    "    print(f\"Добрый день, {article} {name}\")\n",
    "\n",
    "hello_with_article('Екатерина')"
   ]
  }
 ],
 "metadata": {
  "interpreter": {
   "hash": "aee8b7b246df8f9039afb4144a1f6fd8d2ca17a180786b69acc140d282b71a49"
  },
  "kernelspec": {
   "display_name": "Python 3.9.10 64-bit",
   "language": "python",
   "name": "python3"
  },
  "language_info": {
   "codemirror_mode": {
    "name": "ipython",
    "version": 3
   },
   "file_extension": ".py",
   "mimetype": "text/x-python",
   "name": "python",
   "nbconvert_exporter": "python",
   "pygments_lexer": "ipython3",
   "version": "3.9.10"
  },
  "orig_nbformat": 4
 },
 "nbformat": 4,
 "nbformat_minor": 2
}
